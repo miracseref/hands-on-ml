{
 "cells": [
  {
   "cell_type": "markdown",
   "id": "a5bcf12b",
   "metadata": {},
   "source": [
    "1. Machine Learning is the science that makes computers learning from data without being explicitly programmed.\n",
    "2. Machine Learning is great for complex problems for which we have no algorithmic solution, to replace long lists of hand-tuned rules, to build systems that adapt to fluctuating environments, and finally to help humans learn (e.g., data mining).\n",
    "3. It's a set that contains the answers.\n",
    "4. Regression and classification.\n",
    "5. Clustering, anomaly detection, dimensionality reduction, novelty detection.\n",
    "6. Reinforcement learning.\n",
    "7. Clustering.\n",
    "8. Supervised learning problem.\n",
    "9. It's a system that learns on the fly with mini-batches.\n",
    "10. When the model split the data into multiple pieces to train them separatly when it can not fit on the computer's memory.\n",
    "11. Instance-based learning.\n",
    "12. A model has one or more model parameters that determine what it will predict given a new instance (e.g., the slope of a linear model). A learning algorithm tries to find optimal values for these parameters such that the model generalizes well to new instances. A hyperparameter is a parameter of the learning algorithm itself, not of the model (e.g., the amount of regularization to apply).\n",
    "13. Model-based learning algorithms search for an optimal value for the model parameters such that the model will generalize well to new instances. We usually train such systems by minimizing a cost function that measures how bad the system is at making predictions on the training data, plus a penalty for model complexity if the model is regularized. To make predictions, we feed the new instance's features into the model's prediction function, using the parameter values found by the learning algorithm.\n",
    "14. Irrelevant features, overfitting, underfitting, poor-quality data.\n",
    "15. Overfitting. Use less complex algorithm, use more training data, or decrease the learning rate.\n",
    "16. A test set is a set that is used to test the model's performances before deploy it into production. It allows you to avoid user's complains by get rid of the errors in development.\n",
    "17. It allows to tuning the hyperparameters and select the best model.\n",
    "18. "
   ]
  },
  {
   "cell_type": "code",
   "execution_count": null,
   "id": "77bcd0b9",
   "metadata": {},
   "outputs": [],
   "source": []
  }
 ],
 "metadata": {
  "kernelspec": {
   "display_name": "Python 3 (ipykernel)",
   "language": "python",
   "name": "python3"
  },
  "language_info": {
   "codemirror_mode": {
    "name": "ipython",
    "version": 3
   },
   "file_extension": ".py",
   "mimetype": "text/x-python",
   "name": "python",
   "nbconvert_exporter": "python",
   "pygments_lexer": "ipython3",
   "version": "3.10.8"
  }
 },
 "nbformat": 4,
 "nbformat_minor": 5
}
